{
 "cells": [
  {
   "cell_type": "code",
   "execution_count": 1,
   "id": "be45040a-3117-4ed4-b65d-d66f1da09024",
   "metadata": {},
   "outputs": [],
   "source": [
    "import pandas as pd\n",
    "import numpy as np\n",
    "import matplotlib.pyplot as plt\n",
    "import seaborn as sns\n",
    "from sklearn.cluster import KMeans\n",
    "from sklearn.metrics import silhouette_score\n",
    "from sklearn.preprocessing import MinMaxScaler"
   ]
  },
  {
   "cell_type": "code",
   "execution_count": 2,
   "id": "c638e028-37dc-429b-bfe8-21f0c1489b81",
   "metadata": {},
   "outputs": [],
   "source": [
    "df=pd.read_csv(\"Academic Performance.csv\")"
   ]
  },
  {
   "cell_type": "code",
   "execution_count": null,
   "id": "2f43406e-5fdd-4035-8867-1911a708e0d4",
   "metadata": {},
   "outputs": [],
   "source": [
    "# Data Exploration"
   ]
  },
  {
   "cell_type": "code",
   "execution_count": 3,
   "id": "d904c787-97c6-4f8a-8134-725b1429c823",
   "metadata": {},
   "outputs": [
    {
     "data": {
      "text/plain": [
       "roll no        int64\n",
       "name          object\n",
       "fe score     float64\n",
       "se score     float64\n",
       "dept          object\n",
       "placement     object\n",
       "gender        object\n",
       "dtype: object"
      ]
     },
     "execution_count": 3,
     "metadata": {},
     "output_type": "execute_result"
    }
   ],
   "source": [
    "df.dtypes # Display the data types of each column in the DataFrame"
   ]
  },
  {
   "cell_type": "code",
   "execution_count": 4,
   "id": "ce04ea68-3404-4354-8846-2dea3ae62f1c",
   "metadata": {},
   "outputs": [
    {
     "data": {
      "text/html": [
       "<div>\n",
       "<style scoped>\n",
       "    .dataframe tbody tr th:only-of-type {\n",
       "        vertical-align: middle;\n",
       "    }\n",
       "\n",
       "    .dataframe tbody tr th {\n",
       "        vertical-align: top;\n",
       "    }\n",
       "\n",
       "    .dataframe thead th {\n",
       "        text-align: right;\n",
       "    }\n",
       "</style>\n",
       "<table border=\"1\" class=\"dataframe\">\n",
       "  <thead>\n",
       "    <tr style=\"text-align: right;\">\n",
       "      <th></th>\n",
       "      <th>roll no</th>\n",
       "      <th>name</th>\n",
       "      <th>fe score</th>\n",
       "      <th>se score</th>\n",
       "      <th>dept</th>\n",
       "      <th>placement</th>\n",
       "      <th>gender</th>\n",
       "    </tr>\n",
       "  </thead>\n",
       "  <tbody>\n",
       "    <tr>\n",
       "      <th>count</th>\n",
       "      <td>200.000000</td>\n",
       "      <td>200</td>\n",
       "      <td>195.000000</td>\n",
       "      <td>193.000000</td>\n",
       "      <td>200</td>\n",
       "      <td>200</td>\n",
       "      <td>200</td>\n",
       "    </tr>\n",
       "    <tr>\n",
       "      <th>unique</th>\n",
       "      <td>NaN</td>\n",
       "      <td>5</td>\n",
       "      <td>NaN</td>\n",
       "      <td>NaN</td>\n",
       "      <td>3</td>\n",
       "      <td>2</td>\n",
       "      <td>2</td>\n",
       "    </tr>\n",
       "    <tr>\n",
       "      <th>top</th>\n",
       "      <td>NaN</td>\n",
       "      <td>A</td>\n",
       "      <td>NaN</td>\n",
       "      <td>NaN</td>\n",
       "      <td>AI&amp;DS</td>\n",
       "      <td>Yes</td>\n",
       "      <td>Male</td>\n",
       "    </tr>\n",
       "    <tr>\n",
       "      <th>freq</th>\n",
       "      <td>NaN</td>\n",
       "      <td>48</td>\n",
       "      <td>NaN</td>\n",
       "      <td>NaN</td>\n",
       "      <td>72</td>\n",
       "      <td>108</td>\n",
       "      <td>102</td>\n",
       "    </tr>\n",
       "    <tr>\n",
       "      <th>mean</th>\n",
       "      <td>100.500000</td>\n",
       "      <td>NaN</td>\n",
       "      <td>63.815385</td>\n",
       "      <td>65.300518</td>\n",
       "      <td>NaN</td>\n",
       "      <td>NaN</td>\n",
       "      <td>NaN</td>\n",
       "    </tr>\n",
       "    <tr>\n",
       "      <th>std</th>\n",
       "      <td>57.879185</td>\n",
       "      <td>NaN</td>\n",
       "      <td>39.967084</td>\n",
       "      <td>29.716242</td>\n",
       "      <td>NaN</td>\n",
       "      <td>NaN</td>\n",
       "      <td>NaN</td>\n",
       "    </tr>\n",
       "    <tr>\n",
       "      <th>min</th>\n",
       "      <td>1.000000</td>\n",
       "      <td>NaN</td>\n",
       "      <td>0.000000</td>\n",
       "      <td>3.000000</td>\n",
       "      <td>NaN</td>\n",
       "      <td>NaN</td>\n",
       "      <td>NaN</td>\n",
       "    </tr>\n",
       "    <tr>\n",
       "      <th>25%</th>\n",
       "      <td>50.750000</td>\n",
       "      <td>NaN</td>\n",
       "      <td>29.000000</td>\n",
       "      <td>43.000000</td>\n",
       "      <td>NaN</td>\n",
       "      <td>NaN</td>\n",
       "      <td>NaN</td>\n",
       "    </tr>\n",
       "    <tr>\n",
       "      <th>50%</th>\n",
       "      <td>100.500000</td>\n",
       "      <td>NaN</td>\n",
       "      <td>66.000000</td>\n",
       "      <td>65.000000</td>\n",
       "      <td>NaN</td>\n",
       "      <td>NaN</td>\n",
       "      <td>NaN</td>\n",
       "    </tr>\n",
       "    <tr>\n",
       "      <th>75%</th>\n",
       "      <td>150.250000</td>\n",
       "      <td>NaN</td>\n",
       "      <td>96.000000</td>\n",
       "      <td>86.000000</td>\n",
       "      <td>NaN</td>\n",
       "      <td>NaN</td>\n",
       "      <td>NaN</td>\n",
       "    </tr>\n",
       "    <tr>\n",
       "      <th>max</th>\n",
       "      <td>200.000000</td>\n",
       "      <td>NaN</td>\n",
       "      <td>200.000000</td>\n",
       "      <td>188.000000</td>\n",
       "      <td>NaN</td>\n",
       "      <td>NaN</td>\n",
       "      <td>NaN</td>\n",
       "    </tr>\n",
       "  </tbody>\n",
       "</table>\n",
       "</div>"
      ],
      "text/plain": [
       "           roll no name    fe score    se score   dept placement gender\n",
       "count   200.000000  200  195.000000  193.000000    200       200    200\n",
       "unique         NaN    5         NaN         NaN      3         2      2\n",
       "top            NaN    A         NaN         NaN  AI&DS       Yes   Male\n",
       "freq           NaN   48         NaN         NaN     72       108    102\n",
       "mean    100.500000  NaN   63.815385   65.300518    NaN       NaN    NaN\n",
       "std      57.879185  NaN   39.967084   29.716242    NaN       NaN    NaN\n",
       "min       1.000000  NaN    0.000000    3.000000    NaN       NaN    NaN\n",
       "25%      50.750000  NaN   29.000000   43.000000    NaN       NaN    NaN\n",
       "50%     100.500000  NaN   66.000000   65.000000    NaN       NaN    NaN\n",
       "75%     150.250000  NaN   96.000000   86.000000    NaN       NaN    NaN\n",
       "max     200.000000  NaN  200.000000  188.000000    NaN       NaN    NaN"
      ]
     },
     "execution_count": 4,
     "metadata": {},
     "output_type": "execute_result"
    }
   ],
   "source": [
    "df.describe(include=\"all\") # Display descriptive statistics of the DataFrame (including all columns)"
   ]
  },
  {
   "cell_type": "code",
   "execution_count": 5,
   "id": "2c7fc893-054f-47ff-a736-a1abf7bcd963",
   "metadata": {},
   "outputs": [
    {
     "data": {
      "text/plain": [
       "(200, 7)"
      ]
     },
     "execution_count": 5,
     "metadata": {},
     "output_type": "execute_result"
    }
   ],
   "source": [
    "df.shape # Display the shape of the DataFrame (number of rows and columns)"
   ]
  },
  {
   "cell_type": "code",
   "execution_count": 6,
   "id": "40aff8c2-26af-48ce-80e7-7a27c67c19e7",
   "metadata": {},
   "outputs": [
    {
     "data": {
      "text/plain": [
       "Index(['roll no', 'name', 'fe score', 'se score', 'dept', 'placement',\n",
       "       'gender'],\n",
       "      dtype='object')"
      ]
     },
     "execution_count": 6,
     "metadata": {},
     "output_type": "execute_result"
    }
   ],
   "source": [
    "df.columns # Display the column names of the DataFrame"
   ]
  },
  {
   "cell_type": "code",
   "execution_count": 7,
   "id": "c2286c81-1feb-4edf-b0db-c21a0ba2650d",
   "metadata": {},
   "outputs": [
    {
     "data": {
      "text/plain": [
       "roll no      0\n",
       "name         0\n",
       "fe score     5\n",
       "se score     7\n",
       "dept         0\n",
       "placement    0\n",
       "gender       0\n",
       "dtype: int64"
      ]
     },
     "execution_count": 7,
     "metadata": {},
     "output_type": "execute_result"
    }
   ],
   "source": [
    "df.isna().sum() # Check for missing values in each column and display the count"
   ]
  },
  {
   "cell_type": "code",
   "execution_count": 8,
   "id": "ff52d895-7dd8-4211-884f-77982e6648bb",
   "metadata": {},
   "outputs": [],
   "source": [
    "# Fill missing values in the 'fe score' column with the median value\n",
    "df['fe score']=df['fe score'].fillna(df['fe score'].median())"
   ]
  },
  {
   "cell_type": "code",
   "execution_count": 10,
   "id": "503c87cc-6c8a-4486-b6a8-c8e7624716ba",
   "metadata": {},
   "outputs": [
    {
     "data": {
      "text/plain": [
       "roll no      0\n",
       "name         0\n",
       "fe score     0\n",
       "se score     7\n",
       "dept         0\n",
       "placement    0\n",
       "gender       0\n",
       "dtype: int64"
      ]
     },
     "execution_count": 10,
     "metadata": {},
     "output_type": "execute_result"
    }
   ],
   "source": [
    "df.isna().sum() # Check for missing values in each column and display the count"
   ]
  },
  {
   "cell_type": "code",
   "execution_count": 9,
   "id": "55ac1d5c-18b8-4008-adc9-3a03573cc25b",
   "metadata": {},
   "outputs": [
    {
     "data": {
      "text/html": [
       "<div>\n",
       "<style scoped>\n",
       "    .dataframe tbody tr th:only-of-type {\n",
       "        vertical-align: middle;\n",
       "    }\n",
       "\n",
       "    .dataframe tbody tr th {\n",
       "        vertical-align: top;\n",
       "    }\n",
       "\n",
       "    .dataframe thead th {\n",
       "        text-align: right;\n",
       "    }\n",
       "</style>\n",
       "<table border=\"1\" class=\"dataframe\">\n",
       "  <thead>\n",
       "    <tr style=\"text-align: right;\">\n",
       "      <th></th>\n",
       "      <th>roll no</th>\n",
       "      <th>name</th>\n",
       "      <th>fe score</th>\n",
       "      <th>se score</th>\n",
       "      <th>dept</th>\n",
       "      <th>placement</th>\n",
       "      <th>gender</th>\n",
       "    </tr>\n",
       "  </thead>\n",
       "  <tbody>\n",
       "    <tr>\n",
       "      <th>1</th>\n",
       "      <td>2</td>\n",
       "      <td>E</td>\n",
       "      <td>50.0</td>\n",
       "      <td>94.0</td>\n",
       "      <td>COMP</td>\n",
       "      <td>No</td>\n",
       "      <td>Female</td>\n",
       "    </tr>\n",
       "    <tr>\n",
       "      <th>2</th>\n",
       "      <td>3</td>\n",
       "      <td>D</td>\n",
       "      <td>60.0</td>\n",
       "      <td>41.0</td>\n",
       "      <td>AI&amp;DS</td>\n",
       "      <td>No</td>\n",
       "      <td>Male</td>\n",
       "    </tr>\n",
       "    <tr>\n",
       "      <th>3</th>\n",
       "      <td>4</td>\n",
       "      <td>C</td>\n",
       "      <td>108.0</td>\n",
       "      <td>43.0</td>\n",
       "      <td>AI&amp;DS</td>\n",
       "      <td>Yes</td>\n",
       "      <td>Male</td>\n",
       "    </tr>\n",
       "    <tr>\n",
       "      <th>4</th>\n",
       "      <td>5</td>\n",
       "      <td>B</td>\n",
       "      <td>113.0</td>\n",
       "      <td>70.0</td>\n",
       "      <td>COMP</td>\n",
       "      <td>No</td>\n",
       "      <td>Female</td>\n",
       "    </tr>\n",
       "    <tr>\n",
       "      <th>5</th>\n",
       "      <td>6</td>\n",
       "      <td>C</td>\n",
       "      <td>11.0</td>\n",
       "      <td>53.0</td>\n",
       "      <td>COMP</td>\n",
       "      <td>Yes</td>\n",
       "      <td>Male</td>\n",
       "    </tr>\n",
       "    <tr>\n",
       "      <th>...</th>\n",
       "      <td>...</td>\n",
       "      <td>...</td>\n",
       "      <td>...</td>\n",
       "      <td>...</td>\n",
       "      <td>...</td>\n",
       "      <td>...</td>\n",
       "      <td>...</td>\n",
       "    </tr>\n",
       "    <tr>\n",
       "      <th>105</th>\n",
       "      <td>106</td>\n",
       "      <td>E</td>\n",
       "      <td>70.0</td>\n",
       "      <td>NaN</td>\n",
       "      <td>IT</td>\n",
       "      <td>No</td>\n",
       "      <td>Male</td>\n",
       "    </tr>\n",
       "    <tr>\n",
       "      <th>106</th>\n",
       "      <td>107</td>\n",
       "      <td>A</td>\n",
       "      <td>81.0</td>\n",
       "      <td>21.0</td>\n",
       "      <td>IT</td>\n",
       "      <td>No</td>\n",
       "      <td>Male</td>\n",
       "    </tr>\n",
       "    <tr>\n",
       "      <th>107</th>\n",
       "      <td>108</td>\n",
       "      <td>E</td>\n",
       "      <td>0.0</td>\n",
       "      <td>93.0</td>\n",
       "      <td>COMP</td>\n",
       "      <td>Yes</td>\n",
       "      <td>Female</td>\n",
       "    </tr>\n",
       "    <tr>\n",
       "      <th>108</th>\n",
       "      <td>109</td>\n",
       "      <td>E</td>\n",
       "      <td>14.0</td>\n",
       "      <td>73.0</td>\n",
       "      <td>COMP</td>\n",
       "      <td>Yes</td>\n",
       "      <td>Female</td>\n",
       "    </tr>\n",
       "    <tr>\n",
       "      <th>109</th>\n",
       "      <td>110</td>\n",
       "      <td>C</td>\n",
       "      <td>97.0</td>\n",
       "      <td>73.0</td>\n",
       "      <td>COMP</td>\n",
       "      <td>No</td>\n",
       "      <td>Male</td>\n",
       "    </tr>\n",
       "  </tbody>\n",
       "</table>\n",
       "<p>109 rows × 7 columns</p>\n",
       "</div>"
      ],
      "text/plain": [
       "     roll no name  fe score  se score   dept placement  gender\n",
       "1          2    E      50.0      94.0   COMP        No  Female\n",
       "2          3    D      60.0      41.0  AI&DS        No    Male\n",
       "3          4    C     108.0      43.0  AI&DS       Yes    Male\n",
       "4          5    B     113.0      70.0   COMP        No  Female\n",
       "5          6    C      11.0      53.0   COMP       Yes    Male\n",
       "..       ...  ...       ...       ...    ...       ...     ...\n",
       "105      106    E      70.0       NaN     IT        No    Male\n",
       "106      107    A      81.0      21.0     IT        No    Male\n",
       "107      108    E       0.0      93.0   COMP       Yes  Female\n",
       "108      109    E      14.0      73.0   COMP       Yes  Female\n",
       "109      110    C      97.0      73.0   COMP        No    Male\n",
       "\n",
       "[109 rows x 7 columns]"
      ]
     },
     "execution_count": 9,
     "metadata": {},
     "output_type": "execute_result"
    }
   ],
   "source": [
    "df[1:110] # Display rows 1 to 109 of the DataFrame (for inspection)"
   ]
  },
  {
   "cell_type": "code",
   "execution_count": null,
   "id": "ef8bf438-f55f-4d63-a0a3-49b50b48b9df",
   "metadata": {},
   "outputs": [],
   "source": [
    "# Outlier Detection and Visualization"
   ]
  },
  {
   "cell_type": "code",
   "execution_count": 11,
   "id": "8d529b17-c531-42f0-a60c-724213b24ab7",
   "metadata": {},
   "outputs": [
    {
     "data": {
      "text/plain": [
       "<Axes: ylabel='se score'>"
      ]
     },
     "execution_count": 11,
     "metadata": {},
     "output_type": "execute_result"
    },
    {
     "data": {
      "image/png": "[encoded data removed]",
      "text/plain": [
       "<Figure size 640x480 with 1 Axes>"
      ]
     },
     "metadata": {},
     "output_type": "display_data"
    }
   ],
   "source": [
    "sns.boxplot(df['se score'],color=\"Green\") # Create a box plot of the 'se score' column to visualize potential outliers"
   ]
  },
  {
   "cell_type": "code",
   "execution_count": 12,
   "id": "ac99a4e1-efc2-4a90-b140-bbdef0f98f3f",
   "metadata": {},
   "outputs": [
    {
     "data": {
      "text/plain": [
       "<Axes: ylabel='fe score'>"
      ]
     },
     "execution_count": 12,
     "metadata": {},
     "output_type": "execute_result"
    },
    {
     "data": {
      "image/png": "[encoded data removed]",
      "text/plain": [
       "<Figure size 640x480 with 1 Axes>"
      ]
     },
     "metadata": {},
     "output_type": "display_data"
    }
   ],
   "source": [
    "sns.boxplot(df['fe score'],color=\"Red\") # Create a box plot of the 'fe score' column to visualize potential outliers"
   ]
  },
  {
   "cell_type": "code",
   "execution_count": 13,
   "id": "26966604-bff2-465f-9dcd-c03607cc1701",
   "metadata": {},
   "outputs": [
    {
     "name": "stdout",
     "output_type": "stream",
     "text": [
      "(array([  0,   1,   6,   9,  12,  15,  20,  23,  25,  27,  29,  31,  35,\n",
      "        46,  47,  48,  49,  54,  59,  63,  64,  65,  71,  85,  87,  90,\n",
      "        98, 101, 102, 104, 107, 110, 112, 116, 130, 133, 134, 140, 143,\n",
      "       144, 149, 151, 152, 161, 174, 176, 177, 185, 188, 195], dtype=int64),)\n"
     ]
    }
   ],
   "source": [
    "print(np.where(df['se score']>85)) # Find the indices of data points where 'se score' is greater than 85 (potential outliers)"
   ]
  },
  {
   "cell_type": "code",
   "execution_count": 14,
   "id": "5613f189-8371-43b7-a10c-f82e8d1a10cd",
   "metadata": {},
   "outputs": [
    {
     "name": "stdout",
     "output_type": "stream",
     "text": [
      "(array([  3,   4,   9,  13,  15,  17,  19,  22,  23,  24,  25,  27,  31,\n",
      "        39,  41,  46,  54,  57,  58,  60,  62,  64,  66,  67,  68,  72,\n",
      "        76,  78,  79,  82,  89,  91,  92,  94,  95,  99, 102, 109, 111,\n",
      "       113, 117, 126, 127, 135, 137, 139, 143, 144, 145, 149, 151, 153,\n",
      "       156, 174, 179, 180, 183, 186, 191, 197], dtype=int64),)\n"
     ]
    }
   ],
   "source": [
    "print(np.where(df['fe score']>90))  # Identifying specific outlier locations"
   ]
  },
  {
   "cell_type": "code",
   "execution_count": null,
   "id": "a3534875-1cc1-4476-a765-8d8a9c619ebe",
   "metadata": {},
   "outputs": [],
   "source": [
    "# Data Normalization"
   ]
  },
  {
   "cell_type": "code",
   "execution_count": 15,
   "id": "8f993822-d87c-4427-a835-7ca3a7d7b0b0",
   "metadata": {},
   "outputs": [],
   "source": [
    "from sklearn.preprocessing import LabelEncoder # Import LabelEncoder for encoding categorical features"
   ]
  },
  {
   "cell_type": "code",
   "execution_count": 16,
   "id": "032ee6df-ebdd-4c56-952b-433d8cc4597d",
   "metadata": {},
   "outputs": [],
   "source": [
    "Label_Encode=LabelEncoder() # Create a LabelEncoder object"
   ]
  },
  {
   "cell_type": "code",
   "execution_count": 17,
   "id": "98057446-6349-4b4e-96e3-10f3617da293",
   "metadata": {},
   "outputs": [],
   "source": [
    "df['dept']=Label_Encode.fit_transform(df['dept']) # Converting categorical data to numerical"
   ]
  },
  {
   "cell_type": "code",
   "execution_count": 18,
   "id": "b954e61f-4e62-438b-8259-1a524865412e",
   "metadata": {},
   "outputs": [],
   "source": [
    "df['gender']=Label_Encode.fit_transform(df['gender'])  # Converting categorical data to numerical"
   ]
  },
  {
   "cell_type": "code",
   "execution_count": 19,
   "id": "3b969668-5347-44c4-a244-2dab4047ae50",
   "metadata": {},
   "outputs": [
    {
     "data": {
      "text/plain": [
       "array([1, 0, 2])"
      ]
     },
     "execution_count": 19,
     "metadata": {},
     "output_type": "execute_result"
    }
   ],
   "source": [
    "df['dept'].unique() # Display the unique values in the 'dept' column after encoding"
   ]
  },
  {
   "cell_type": "code",
   "execution_count": 20,
   "id": "f457ab49-7748-4a98-836f-ccc6e480e7f6",
   "metadata": {},
   "outputs": [
    {
     "data": {
      "text/plain": [
       "array([1, 0])"
      ]
     },
     "execution_count": 20,
     "metadata": {},
     "output_type": "execute_result"
    }
   ],
   "source": [
    "df['gender'].unique() # Verifying the encoded values"
   ]
  },
  {
   "cell_type": "code",
   "execution_count": null,
   "id": "79151f33-aed6-4641-b59d-f21f4fd87c8c",
   "metadata": {},
   "outputs": [],
   "source": [
    "# Data Transformation"
   ]
  },
  {
   "cell_type": "code",
   "execution_count": 21,
   "id": "e9536790-ec3a-4402-a643-b24c5d2829b0",
   "metadata": {},
   "outputs": [],
   "source": [
    "from sklearn import preprocessing # Import MinMaxScaler for feature scaling"
   ]
  },
  {
   "cell_type": "code",
   "execution_count": 22,
   "id": "d29c5e10-7990-46a0-9d05-38c96bf2d7b8",
   "metadata": {},
   "outputs": [],
   "source": [
    "preprocessor=preprocessing.MinMaxScaler() # Create a MinMaxScaler object"
   ]
  },
  {
   "cell_type": "code",
   "execution_count": 23,
   "id": "e1e11234-b4e7-464f-9f91-92dc5874484f",
   "metadata": {},
   "outputs": [],
   "source": [
    "df['fe score']=preprocessor.fit_transform(df[['fe score']]) # Apply Min-Max scaling to the 'fe score' column"
   ]
  },
  {
   "cell_type": "code",
   "execution_count": 24,
   "id": "9033db32-bec2-41c7-b2d1-4f058868b6ba",
   "metadata": {},
   "outputs": [],
   "source": [
    "df['se score']=preprocessor.fit_transform(df[['se score']]) # Apply Min-Max scaling to the 'se score' column"
   ]
  },
  {
   "cell_type": "code",
   "execution_count": 25,
   "id": "0af9b21c-7d37-4384-81df-b428734e2541",
   "metadata": {},
   "outputs": [
    {
     "data": {
      "text/plain": [
       "array([0.115, 0.25 , 0.3  , 0.54 , 0.565, 0.055, 0.38 , 0.415, 0.01 ,\n",
       "       0.455, 0.13 , 0.05 , 0.12 , 1.   , 0.095, 0.6  , 0.445, 0.495,\n",
       "       0.105, 0.005, 0.55 , 0.47 , 0.545, 0.025, 0.26 , 0.1  , 0.15 ,\n",
       "       0.32 , 0.33 , 0.39 , 0.435, 0.   , 0.09 , 0.605, 0.34 , 0.535,\n",
       "       0.29 , 0.2  , 0.015, 0.185, 0.61 , 0.335, 0.225, 0.14 , 0.11 ,\n",
       "       0.175, 0.135, 0.46 , 0.5  , 0.58 , 0.35 , 0.145, 0.595, 0.53 ,\n",
       "       0.59 , 0.21 , 0.275, 0.505, 0.03 , 0.08 , 0.245, 0.49 , 0.125,\n",
       "       0.465, 0.42 , 0.45 , 0.155, 0.48 , 0.02 , 0.4  , 0.475, 0.575,\n",
       "       0.235, 0.405, 0.07 , 0.485, 0.52 , 0.075, 0.615, 0.215, 0.165,\n",
       "       0.255, 0.195, 0.285, 0.315, 0.04 , 0.525, 0.365, 0.085, 0.325,\n",
       "       0.585, 0.9  , 0.78 , 0.36 , 0.16 , 0.355, 0.41 , 0.345, 0.305,\n",
       "       0.205, 0.06 , 0.27 , 0.19 , 0.44 , 0.17 , 0.43 , 0.725])"
      ]
     },
     "execution_count": 25,
     "metadata": {},
     "output_type": "execute_result"
    }
   ],
   "source": [
    "df['fe score'].unique()  # Verifying the scaled values"
   ]
  },
  {
   "cell_type": "code",
   "execution_count": 26,
   "id": "6dc5c207-8084-49ad-b0e7-77d6b05ff22d",
   "metadata": {},
   "outputs": [
    {
     "data": {
      "text/plain": [
       "array([0.46486486, 0.49189189, 0.20540541, 0.21621622, 0.36216216,\n",
       "       0.27027027, 0.53513514, 0.37297297, 0.40540541, 0.79459459,\n",
       "       0.16216216, 0.13513514, 0.54594595, 0.14594595, 0.3027027 ,\n",
       "       0.37837838, 0.28108108, 0.22702703, 0.4972973 , 0.1027027 ,\n",
       "       0.26486486, 0.45405405, 0.25405405, 0.48108108, 0.48648649,\n",
       "       0.54054054, 0.34594595, 0.73513514, 0.38918919, 0.24864865,\n",
       "              nan, 0.30810811, 0.25945946, 0.41621622, 0.11891892,\n",
       "       0.88648649, 0.47027027, 0.21081081, 0.43243243, 0.27567568,\n",
       "       0.15675676, 0.24324324, 0.18378378, 0.55135135, 0.51351351,\n",
       "       0.19459459, 0.        , 0.38378378, 0.35135135, 0.44864865,\n",
       "       0.12432432, 0.42702703, 0.44324324, 0.23783784, 0.42162162,\n",
       "       0.18918919, 0.23243243, 0.51891892, 1.        , 0.2972973 ,\n",
       "       0.16756757, 0.36756757, 0.15135135, 0.2       , 0.0972973 ,\n",
       "       0.47567568, 0.32432432, 0.33513514, 0.31351351, 0.12972973,\n",
       "       0.35675676, 0.11351351, 0.10810811, 0.92972973, 0.28648649,\n",
       "       0.31891892, 0.41081081, 0.14054054, 0.29189189, 0.52972973,\n",
       "       0.50810811, 0.39459459, 0.45945946, 0.76756757, 0.17297297,\n",
       "       0.32972973])"
      ]
     },
     "execution_count": 26,
     "metadata": {},
     "output_type": "execute_result"
    }
   ],
   "source": [
    "df['se score'].unique()  # Verifying the scaled values"
   ]
  }
 ],
 "metadata": {
  "kernelspec": {
   "display_name": "Python 3 (ipykernel)",
   "language": "python",
   "name": "python3"
  },
  "language_info": {
   "codemirror_mode": {
    "name": "ipython",
    "version": 3
   },
   "file_extension": ".py",
   "mimetype": "text/x-python",
   "name": "python",
   "nbconvert_exporter": "python",
   "pygments_lexer": "ipython3",
   "version": "3.12.7"
  }
 },
 "nbformat": 4,
 "nbformat_minor": 5
}
